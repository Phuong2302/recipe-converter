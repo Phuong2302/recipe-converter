{
 "cells": [
  {
   "cell_type": "code",
   "execution_count": 31,
   "metadata": {},
   "outputs": [],
   "source": [
    "import win32clipboard\n",
    "import unicodedata"
   ]
  },
  {
   "cell_type": "code",
   "execution_count": 134,
   "metadata": {},
   "outputs": [
    {
     "name": "stdout",
     "output_type": "stream",
     "text": [
      "['2 1/4 teaspoons active dry or instant yeast', '3/4 cup warm water', '1/2 teaspoon plus 2 tablespoons sugar', '3 3/4 to 4 cups King Arthur Unbleached All-Purpose Flour, plus more for dusting', '1 teaspoon kosher salt', '2 large eggs', '1/3 cup vegetable oil', '2 tablespoons additional sweetener (sugar, honey, or molasses)']\n"
     ]
    }
   ],
   "source": [
    "def get_clipboard_data():\n",
    "    # get clipboard data\n",
    "    win32clipboard.OpenClipboard()\n",
    "    data = win32clipboard.GetClipboardData(win32clipboard.CF_UNICODETEXT)\n",
    "    win32clipboard.CloseClipboard()\n",
    "    \n",
    "    return data.splitlines()\n",
    "\n",
    "text = get_clipboard_data()\n",
    "print(text)"
   ]
  },
  {
   "cell_type": "code",
   "execution_count": 45,
   "metadata": {},
   "outputs": [
    {
     "name": "stdout",
     "output_type": "stream",
     "text": [
      "['1⁄2 cup butter', '1 cup sugar', '2 eggs, beaten', '3 bananas, finely crushed (for serious and extreme moist and delicious, try 4 bananas)', '1 1⁄2 cups flour', '1 teaspoon baking soda', '1⁄2 teaspoon salt', '1⁄2 teaspoon vanilla']\n"
     ]
    }
   ],
   "source": [
    "text = ['1⁄2 cup butter', '1 cup sugar', '2 eggs, beaten', '3 bananas, finely crushed (for serious and extreme moist and delicious, try 4 bananas)', '1 1⁄2 cups flour', '1 teaspoon baking soda', '1⁄2 teaspoon salt', '1⁄2 teaspoon vanilla']\n",
    "print(text)"
   ]
  },
  {
   "cell_type": "code",
   "execution_count": 132,
   "metadata": {},
   "outputs": [],
   "source": [
    "def parse_fractions(ingredient):\n",
    "    # From Genius recipes\n",
    "    ingredient = ingredient.replace('1⁄4', '.25')\n",
    "    ingredient = ingredient.replace('1⁄3', '.33')\n",
    "    ingredient = ingredient.replace('1⁄2', '.5')\n",
    "    ingredient = ingredient.replace('2⁄3', '.66')\n",
    "    ingredient = ingredient.replace('3⁄4', '.75')\n",
    "    \n",
    "    ingredient = ingredient.replace('1/8', '.125')\n",
    "    ingredient = ingredient.replace('1/4', '.25')\n",
    "    ingredient = ingredient.replace('1/3', '.33')\n",
    "    ingredient = ingredient.replace('1/2', '.5')\n",
    "    ingredient = ingredient.replace('2/3', '.66')\n",
    "    ingredient = ingredient.replace('3/4', '.75')\n",
    "    \n",
    "    return ingredient\n",
    "\n",
    "def get_conversion(line):\n",
    "    if 'butter' in line and 'cup' in line:\n",
    "        output =  parse_ingredient_line(line, 227)\n",
    "        \n",
    "    return output\n",
    "\n",
    "def convert_ingredient(line, unit, conversion):\n",
    "    # Extract number from measurement\n",
    "    number_string = line.split(unit)[0].replace(' ','')\n",
    "    number_float = float(number_string)\n",
    "\n",
    "    # Convert butter cup to grams\n",
    "    converted = number_float * conversion\n",
    "\n",
    "    # Construct the output ingredient line with original line\n",
    "    line_out = '%.1f g%s'%(converted, line.split(unit)[1].strip('s'))\n",
    "    return line_out\n",
    "\n",
    "def parse_recipe(text):\n",
    "    output = []\n",
    "    \n",
    "    for orig_line in text:\n",
    "        line = parse_fractions(orig_line)\n",
    "        \n",
    "        if 'butter' in line:\n",
    "            if 'cup' in line:\n",
    "                output.append(convert_ingredient(line, 'cup', 227))\n",
    "            elif 'tablespoon' in line:\n",
    "                output.append(convert_ingredient(line, 'tablespoon', 14.2))\n",
    "                \n",
    "        elif 'sugar' in line:\n",
    "            if 'cup' in line:\n",
    "                output.append(convert_ingredient(line, 'cup', 201))\n",
    "            elif 'teaspoon' in line:\n",
    "                output.append(convert_ingredient(line, 'teaspoon', 4.2))\n",
    "            elif 'tablespoon' in line:\n",
    "                output.append(convert_ingredient(line, 'tablespoon', 12.5))\n",
    "\n",
    "        elif 'flour' in line:\n",
    "            if 'cup' in line:\n",
    "                output.append(convert_ingredient(line, 'cup', 120))\n",
    "            elif 'tablespoon' in line:\n",
    "                output.append(convert_ingredient(line, 'tablespoon', 8))\n",
    "                \n",
    "        elif 'baking soda' in line:\n",
    "            output.append(convert_ingredient(line, 'teaspoon', 6))\n",
    "            \n",
    "        elif 'baking powder' in line:\n",
    "            output.append(convert_ingredient(line, 'teaspoon', 4))\n",
    "            \n",
    "        elif 'salt' in line:\n",
    "            if 'teaspoon' in line:\n",
    "                output.append(convert_ingredient(line, 'teaspoon', 5))\n",
    "            elif 'tablespoon' in line:\n",
    "                output.append(convert_ingredient(line, 'tablespoon', 17.06))\n",
    "        \n",
    "        elif 'vanilla' in line:\n",
    "            output.append(convert_ingredient(line, 'teaspoon', 4.2))\n",
    "            \n",
    "        elif 'milk' in line:\n",
    "            output.append(convert_ingredient(line, 'cup', 227))\n",
    "            \n",
    "        elif 'yogurt' in line:\n",
    "            output.append(convert_ingredient(line, 'cup', 227))\n",
    "            \n",
    "        elif 'oil' in line:\n",
    "            if 'cup' in line:\n",
    "                output.append(convert_ingredient(line, 'cup', 198))\n",
    "            if 'tablespoon' in line:\n",
    "                output.append(convert_ingredient(line, 'tablespoon', 14.15))                \n",
    "            \n",
    "        elif 'water' in line:\n",
    "            output.append(convert_ingredient(line, 'cup', 237))\n",
    "            \n",
    "        elif 'yeast' in line:\n",
    "            if 'teaspoon' in line:\n",
    "                output.append(convert_ingredient(line, 'teaspoon', 3.11))\n",
    "            elif 'oz' in line:\n",
    "                output.append(convert_ingredient(line, 'oz', 7))\n",
    "            \n",
    "        else:\n",
    "            output.append(line)\n",
    "            \n",
    "#         print(output[-1])\n",
    "    \n",
    "    return output\n",
    "\n",
    "parse_recipe(text);"
   ]
  },
  {
   "cell_type": "code",
   "execution_count": 96,
   "metadata": {},
   "outputs": [],
   "source": [
    "def display_lines(text_list):\n",
    "    for line in text_list:\n",
    "        print(line)\n",
    "        \n",
    "    print()"
   ]
  },
  {
   "cell_type": "code",
   "execution_count": 133,
   "metadata": {},
   "outputs": [
    {
     "name": "stdout",
     "output_type": "stream",
     "text": [
      "***ORIGINAL***\n",
      "2 1/4 teaspoons active dry or instant yeast\n",
      "3/4 cup warm water\n",
      "1/2 teaspoon plus 2 tablespoons sugar\n",
      "3 3/4 to 4 cups King Arthur Unbleached All-Purpose Flour, plus more for dusting\n",
      "1 teaspoon kosher salt\n",
      "2 large eggs\n",
      "1/3 cup vegetable oil\n",
      "2 tablespoons additional sweetener (sugar, honey, or molasses)\n",
      "\n",
      "***CONVERTED***\n",
      "7.0 g active dry or instant yeast\n",
      "177.8 g warm water\n",
      "2.1 g plus 2 tablespoons sugar\n",
      "3 .75 to 4 cups King Arthur Unbleached All-Purpose Flour, plus more for dusting\n",
      "5.0 g kosher salt\n",
      "2 large eggs\n",
      "65.3 g vegetable oil\n",
      "25.0 g additional sweetener (sugar, honey, or molasses)\n",
      "\n"
     ]
    }
   ],
   "source": [
    "text = get_clipboard_data()\n",
    "print('***ORIGINAL***')\n",
    "display_lines(text)\n",
    "\n",
    "print('***CONVERTED***')\n",
    "converted_recipe = parse_recipe(text)\n",
    "display_lines(converted_recipe)"
   ]
  }
 ],
 "metadata": {
  "kernelspec": {
   "display_name": "Python 3",
   "language": "python",
   "name": "python3"
  },
  "language_info": {
   "codemirror_mode": {
    "name": "ipython",
    "version": 3
   },
   "file_extension": ".py",
   "mimetype": "text/x-python",
   "name": "python",
   "nbconvert_exporter": "python",
   "pygments_lexer": "ipython3",
   "version": "3.6.4"
  }
 },
 "nbformat": 4,
 "nbformat_minor": 2
}
