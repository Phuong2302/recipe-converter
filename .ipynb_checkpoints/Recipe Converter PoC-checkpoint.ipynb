{
 "cells": [
  {
   "cell_type": "code",
   "execution_count": 1,
   "metadata": {},
   "outputs": [],
   "source": [
    "import win32clipboard\n",
    "import unicodedata\n",
    "import csv"
   ]
  },
  {
   "cell_type": "code",
   "execution_count": 2,
   "metadata": {},
   "outputs": [
    {
     "name": "stdout",
     "output_type": "stream",
     "text": [
      "['2 2⁄3 ounces dark chocolate', '5 tablespoons unsalted butter', '4 eggs, separated', '2⁄3 cup coconut sugar (or other natural sugar)', '1⁄2 cup hazelnut meal (or bleached hazelnuts ground in a food processor)', '1⁄3 cup unsweetened cocoa powder', '2 tablespoons brandy (optional) or 2 tablespoons rum (optional)', 'powdered sugar, for topping']\n"
     ]
    }
   ],
   "source": [
    "def get_clipboard_data():\n",
    "    # get clipboard data\n",
    "    win32clipboard.OpenClipboard()\n",
    "    data = win32clipboard.GetClipboardData(win32clipboard.CF_UNICODETEXT)\n",
    "    win32clipboard.CloseClipboard()\n",
    "    \n",
    "    return data.splitlines()\n",
    "\n",
    "text = get_clipboard_data()\n",
    "print(text)"
   ]
  },
  {
   "cell_type": "code",
   "execution_count": 3,
   "metadata": {},
   "outputs": [
    {
     "name": "stdout",
     "output_type": "stream",
     "text": [
      "['1⁄2 cup butter', '1 cup sugar', '2 eggs, beaten', '3 bananas, finely crushed (for serious and extreme moist and delicious, try 4 bananas)', '1 1⁄2 cups flour', '1 teaspoon baking soda', '1⁄2 teaspoon salt', '1⁄2 teaspoon vanilla']\n"
     ]
    }
   ],
   "source": [
    "text = ['1⁄2 cup butter', '1 cup sugar', '2 eggs, beaten', '3 bananas, finely crushed (for serious and extreme moist and delicious, try 4 bananas)', '1 1⁄2 cups flour', '1 teaspoon baking soda', '1⁄2 teaspoon salt', '1⁄2 teaspoon vanilla']\n",
    "print(text)"
   ]
  },
  {
   "cell_type": "code",
   "execution_count": 4,
   "metadata": {},
   "outputs": [
    {
     "data": {
      "text/plain": [
       "['113.5 g butter',\n",
       " '201.0 g sugar',\n",
       " '2 eggs, beaten',\n",
       " '3 bananas, finely crushed (for serious and extreme moist and delicious, try 4 bananas)',\n",
       " '180.0 g flour',\n",
       " '6.0 g baking soda',\n",
       " '2.5 g salt',\n",
       " '2.1 g vanilla']"
      ]
     },
     "execution_count": 4,
     "metadata": {},
     "output_type": "execute_result"
    }
   ],
   "source": [
    "class RecipeConverter:\n",
    "    def __init__(self):\n",
    "        # Conversion table from volumetric to metric grams\n",
    "        self.conversions = self.import_conversions('gram-conversions.csv')\n",
    "                \n",
    "    def import_conversions(self, filename):\n",
    "        with open(filename) as csvfile:\n",
    "            conversion_table = list(csv.reader(csvfile, delimiter=','))\n",
    "\n",
    "            # Remove header\n",
    "            conversion_table.pop(0)\n",
    "\n",
    "            return conversion_table\n",
    "        \n",
    "    def parse_fractions(self, ingredient):\n",
    "        # From Genius recipes\n",
    "        ingredient = ingredient.replace('1⁄4', '.25')\n",
    "        ingredient = ingredient.replace('1⁄3', '.33')\n",
    "        ingredient = ingredient.replace('1⁄2', '.5')\n",
    "        ingredient = ingredient.replace('2⁄3', '.66')\n",
    "        ingredient = ingredient.replace('3⁄4', '.75')\n",
    "\n",
    "        ingredient = ingredient.replace('1/8', '.125')\n",
    "        ingredient = ingredient.replace('1/4', '.25')\n",
    "        ingredient = ingredient.replace('1/3', '.33')\n",
    "        ingredient = ingredient.replace('1/2', '.5')\n",
    "        ingredient = ingredient.replace('2/3', '.66')\n",
    "        ingredient = ingredient.replace('3/4', '.75')\n",
    "\n",
    "        return ingredient\n",
    "\n",
    "    def convert_ingredient(self, line, unit, conversion):\n",
    "        # Extract number from measurement\n",
    "        number_string = line.split(unit)[0].replace(' ','')\n",
    "        number_float = float(number_string)\n",
    "\n",
    "        # Convert butter cup to grams\n",
    "        converted = number_float * float(conversion)\n",
    "\n",
    "        # Construct the output ingredient line with original line\n",
    "        line_out = '%.1f g%s'%(converted, line.split(unit)[1].strip('s'))\n",
    "        return line_out\n",
    "\n",
    "    def parse_recipe(self, text):\n",
    "        output = []\n",
    "\n",
    "        for recipe_line in text:\n",
    "            flag_converted = False\n",
    "\n",
    "            # For each recipe line item, look it up in the conversion table\n",
    "            for ingredient_gram in self.conversions:\n",
    "                if ingredient_gram[0] in recipe_line:\n",
    "                    flag_converted = True\n",
    "\n",
    "                    # Convert fractions to floats\n",
    "                    line = self.parse_fractions(recipe_line)\n",
    "\n",
    "                    if 'cup' in line:\n",
    "                        output.append(self.convert_ingredient(line, 'cup', ingredient_gram[1]))\n",
    "                        break\n",
    "                    elif 'tablespoon' in line:\n",
    "                        output.append(self.convert_ingredient(line, 'tablespoon', ingredient_gram[2]))\n",
    "                        break\n",
    "                    elif 'teaspoon' in line:\n",
    "                        output.append(self.convert_ingredient(line, 'teaspoon', ingredient_gram[3]))\n",
    "                        break\n",
    "                    else:\n",
    "                        flag_converted = False\n",
    "\n",
    "            # If nothing was found, then use original line\n",
    "            if not flag_converted:\n",
    "                output.append(recipe_line)\n",
    "\n",
    "        return output\n",
    "\n",
    "rc = RecipeConverter()\n",
    "rc.parse_recipe(text)"
   ]
  },
  {
   "cell_type": "code",
   "execution_count": 5,
   "metadata": {},
   "outputs": [],
   "source": [
    "def display_lines(text_list):\n",
    "    for line in text_list:\n",
    "        print(line)\n",
    "        \n",
    "    print()"
   ]
  },
  {
   "cell_type": "code",
   "execution_count": 6,
   "metadata": {},
   "outputs": [
    {
     "name": "stdout",
     "output_type": "stream",
     "text": [
      "***ORIGINAL***\n",
      "2 2⁄3 ounces dark chocolate\n",
      "5 tablespoons unsalted butter\n",
      "4 eggs, separated\n",
      "2⁄3 cup coconut sugar (or other natural sugar)\n",
      "1⁄2 cup hazelnut meal (or bleached hazelnuts ground in a food processor)\n",
      "1⁄3 cup unsweetened cocoa powder\n",
      "2 tablespoons brandy (optional) or 2 tablespoons rum (optional)\n",
      "powdered sugar, for topping\n",
      "\n",
      "***CONVERTED***\n",
      "2 2⁄3 ounces dark chocolate\n",
      "71.0 g unsalted butter\n",
      "4 eggs, separated\n",
      "132.7 g coconut sugar (or other natural sugar)\n",
      "1⁄2 cup hazelnut meal (or bleached hazelnuts ground in a food processor)\n",
      "28.1 g unsweetened cocoa powder\n",
      "2 tablespoons brandy (optional) or 2 tablespoons rum (optional)\n",
      "powdered sugar, for topping\n",
      "\n"
     ]
    }
   ],
   "source": [
    "text = get_clipboard_data()\n",
    "print('***ORIGINAL***')\n",
    "display_lines(text)\n",
    "\n",
    "print('***CONVERTED***')\n",
    "rc = RecipeConverter()\n",
    "display_lines(rc.parse_recipe(text))"
   ]
  }
 ],
 "metadata": {
  "kernelspec": {
   "display_name": "Python 3",
   "language": "python",
   "name": "python3"
  },
  "language_info": {
   "codemirror_mode": {
    "name": "ipython",
    "version": 3
   },
   "file_extension": ".py",
   "mimetype": "text/x-python",
   "name": "python",
   "nbconvert_exporter": "python",
   "pygments_lexer": "ipython3",
   "version": "3.6.4"
  }
 },
 "nbformat": 4,
 "nbformat_minor": 2
}
