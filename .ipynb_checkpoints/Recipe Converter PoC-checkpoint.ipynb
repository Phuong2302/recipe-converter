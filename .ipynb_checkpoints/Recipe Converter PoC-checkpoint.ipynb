{
 "cells": [
  {
   "cell_type": "code",
   "execution_count": 7,
   "metadata": {},
   "outputs": [],
   "source": [
    "import win32clipboard\n",
    "import unicodedata\n",
    "import csv"
   ]
  },
  {
   "cell_type": "code",
   "execution_count": 2,
   "metadata": {},
   "outputs": [
    {
     "name": "stdout",
     "output_type": "stream",
     "text": [
      "['1⁄2 cup butter', '1 cup sugar', '2 eggs, beaten', '3 bananas, finely crushed (for serious and extreme moist and delicious, try 4 bananas)', '1 1⁄2 cups flour', '1 teaspoon baking soda', '1⁄2 teaspoon salt', '1⁄2 teaspoon vanilla (optional)']\n"
     ]
    }
   ],
   "source": [
    "def get_clipboard_data():\n",
    "    # get clipboard data\n",
    "    win32clipboard.OpenClipboard()\n",
    "    data = win32clipboard.GetClipboardData(win32clipboard.CF_UNICODETEXT)\n",
    "    win32clipboard.CloseClipboard()\n",
    "    \n",
    "    return data.splitlines()\n",
    "\n",
    "text = get_clipboard_data()\n",
    "print(text)"
   ]
  },
  {
   "cell_type": "code",
   "execution_count": 21,
   "metadata": {},
   "outputs": [
    {
     "name": "stdout",
     "output_type": "stream",
     "text": [
      "['1⁄2 cup butter', '1 cup sugar', '2 eggs, beaten', '3 bananas, finely crushed (for serious and extreme moist and delicious, try 4 bananas)', '1 1⁄2 cups flour', '1 teaspoon baking soda', '1⁄2 teaspoon salt', '1⁄2 teaspoon vanilla']\n"
     ]
    }
   ],
   "source": [
    "text = ['1⁄2 cup butter', '1 cup sugar', '2 eggs, beaten', '3 bananas, finely crushed (for serious and extreme moist and delicious, try 4 bananas)', '1 1⁄2 cups flour', '1 teaspoon baking soda', '1⁄2 teaspoon salt', '1⁄2 teaspoon vanilla']\n",
    "print(text)"
   ]
  },
  {
   "cell_type": "code",
   "execution_count": 20,
   "metadata": {},
   "outputs": [
    {
     "data": {
      "text/plain": [
       "[['butter', '227', '14.2', '4.73'],\n",
       " ['sugar', '201', '12.5', '4.2'],\n",
       " ['brown sugar', '220', '15', ''],\n",
       " ['flour', '120', '8', '3.3'],\n",
       " ['baking soda', '', '20', '6'],\n",
       " ['baking powder', '', '12', '4'],\n",
       " ['salt', '', '17.06', '5'],\n",
       " ['vanilla', '', '', '4.2'],\n",
       " ['milk', '227', '', ''],\n",
       " ['cornstarch', '125', '8', ''],\n",
       " ['olive oil', '216', '14', '5'],\n",
       " ['yogurt', '230', '14', ''],\n",
       " ['oil', '198', '14.15', '4.5'],\n",
       " ['water', '237', '15', '4.93'],\n",
       " ['yeast', '', '', '3.11']]"
      ]
     },
     "execution_count": 20,
     "metadata": {},
     "output_type": "execute_result"
    }
   ],
   "source": [
    "def import_conversions(filename):\n",
    "    with open(filename) as csvfile:\n",
    "        conversion_table = list(csv.reader(csvfile, delimiter=','))\n",
    "\n",
    "        # Remove header\n",
    "        conversion_table.pop(0)\n",
    "        \n",
    "        return conversion_table\n",
    "    \n",
    "import_conversions('gram-conversions.csv')"
   ]
  },
  {
   "cell_type": "code",
   "execution_count": 36,
   "metadata": {},
   "outputs": [
    {
     "data": {
      "text/plain": [
       "['113.5 g butter',\n",
       " '201.0 g sugar',\n",
       " '1 cup sugar',\n",
       " '1 cup sugar',\n",
       " '180.0 g flour',\n",
       " '6.0 g baking soda',\n",
       " '2.5 g salt',\n",
       " '2.1 g vanilla (optional)']"
      ]
     },
     "execution_count": 36,
     "metadata": {},
     "output_type": "execute_result"
    }
   ],
   "source": [
    "def parse_fractions(ingredient):\n",
    "    # From Genius recipes\n",
    "    ingredient = ingredient.replace('1⁄4', '.25')\n",
    "    ingredient = ingredient.replace('1⁄3', '.33')\n",
    "    ingredient = ingredient.replace('1⁄2', '.5')\n",
    "    ingredient = ingredient.replace('2⁄3', '.66')\n",
    "    ingredient = ingredient.replace('3⁄4', '.75')\n",
    "    \n",
    "    ingredient = ingredient.replace('1/8', '.125')\n",
    "    ingredient = ingredient.replace('1/4', '.25')\n",
    "    ingredient = ingredient.replace('1/3', '.33')\n",
    "    ingredient = ingredient.replace('1/2', '.5')\n",
    "    ingredient = ingredient.replace('2/3', '.66')\n",
    "    ingredient = ingredient.replace('3/4', '.75')\n",
    "    \n",
    "    return ingredient\n",
    "\n",
    "def get_conversion(line):\n",
    "    if 'butter' in line and 'cup' in line:\n",
    "        output =  parse_ingredient_line(line, 227)\n",
    "        \n",
    "    return output\n",
    "\n",
    "def convert_ingredient(line, unit, conversion):\n",
    "    # Extract number from measurement\n",
    "    number_string = line.split(unit)[0].replace(' ','')\n",
    "    number_float = float(number_string)\n",
    "\n",
    "    # Convert butter cup to grams\n",
    "    converted = number_float * float(conversion)\n",
    "\n",
    "    # Construct the output ingredient line with original line\n",
    "    line_out = '%.1f g%s'%(converted, line.split(unit)[1].strip('s'))\n",
    "    return line_out\n",
    "\n",
    "def parse_recipe(text):\n",
    "    output = []\n",
    "    \n",
    "    # Conversion table from volumetric to metric grams\n",
    "    conversions = import_conversions('gram-conversions.csv')\n",
    "    \n",
    "    for orig_line in text:\n",
    "        flag_converted = False\n",
    "        \n",
    "        # For each recipe line item, look it up in the conversion table\n",
    "        for ingredient_gram in conversions:\n",
    "            if ingredient_gram[0] in orig_line:\n",
    "                flag_converted = True\n",
    "                \n",
    "                # Convert fractions to floats\n",
    "                line = parse_fractions(orig_line)\n",
    "                \n",
    "                if 'cup' in line:\n",
    "                    output.append(convert_ingredient(line, 'cup', ingredient_gram[1]))\n",
    "                elif 'tablespoon' in line:\n",
    "                    output.append(convert_ingredient(line, 'tablespoon', ingredient_gram[2]))\n",
    "                elif 'teaspoon' in line:\n",
    "                    output.append(convert_ingredient(line, 'teaspoon', ingredient_gram[3]))\n",
    "                else:\n",
    "                    flag_converted = False\n",
    "                    \n",
    "        # If nothing was found, then just \n",
    "        if not flag_converted:\n",
    "            output.append(line)\n",
    "    \n",
    "    return output\n",
    "\n",
    "parse_recipe(text)"
   ]
  },
  {
   "cell_type": "code",
   "execution_count": 32,
   "metadata": {},
   "outputs": [],
   "source": [
    "def display_lines(text_list):\n",
    "    for line in text_list:\n",
    "        print(line)\n",
    "        \n",
    "    print()"
   ]
  },
  {
   "cell_type": "code",
   "execution_count": 34,
   "metadata": {},
   "outputs": [
    {
     "name": "stdout",
     "output_type": "stream",
     "text": [
      "***ORIGINAL***\n",
      "1⁄2 cup butter\n",
      "1 cup sugar\n",
      "2 eggs, beaten\n",
      "3 bananas, finely crushed (for serious and extreme moist and delicious, try 4 bananas)\n",
      "1 1⁄2 cups flour\n",
      "1 teaspoon baking soda\n",
      "1⁄2 teaspoon salt\n",
      "1⁄2 teaspoon vanilla (optional)\n",
      "\n",
      "***CONVERTED***\n",
      "113.5 g butter\n",
      "201.0 g sugar\n",
      "2 eggs, beaten\n",
      "3 bananas, finely crushed (for serious and extreme moist and delicious, try 4 bananas)\n",
      "180.0 g flour\n",
      "6.0 g baking soda\n",
      "2.5 g salt\n",
      "2.1 g vanilla (optional)\n",
      "\n"
     ]
    }
   ],
   "source": [
    "text = get_clipboard_data()\n",
    "print('***ORIGINAL***')\n",
    "display_lines(text)\n",
    "\n",
    "print('***CONVERTED***')\n",
    "converted_recipe = parse_recipe(text)\n",
    "display_lines(converted_recipe)"
   ]
  }
 ],
 "metadata": {
  "kernelspec": {
   "display_name": "Python 3",
   "language": "python",
   "name": "python3"
  },
  "language_info": {
   "codemirror_mode": {
    "name": "ipython",
    "version": 3
   },
   "file_extension": ".py",
   "mimetype": "text/x-python",
   "name": "python",
   "nbconvert_exporter": "python",
   "pygments_lexer": "ipython3",
   "version": "3.6.4"
  }
 },
 "nbformat": 4,
 "nbformat_minor": 2
}
